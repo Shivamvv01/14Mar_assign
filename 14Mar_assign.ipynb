{
 "cells": [
  {
   "cell_type": "markdown",
   "id": "944ab2fa-4914-4b31-bec1-ab4418f2269e",
   "metadata": {},
   "source": [
    "Q1. Write a Python function that takes in two arrays of data and calculates the F-value for a variance ratio\n",
    "test. The function should return the F-value and the corresponding p-value for the test."
   ]
  },
  {
   "cell_type": "code",
   "execution_count": 1,
   "id": "04d46b9d-9ca1-4911-b94b-7dc6cdcdab84",
   "metadata": {},
   "outputs": [],
   "source": [
    "import numpy as np\n",
    "from scipy.stats import f \n",
    "\n",
    "def variance_ratio_test(data1,data2):\n",
    "    var1=np.var(data1,ddof=1)\n",
    "    var2=np.var(data2,ddof=1)\n",
    "    \n",
    "    f_value=var1/var2\n",
    "    \n",
    "    df1=len(data1)-1\n",
    "    df2=len(data2)-1\n",
    "    \n",
    "    p_value=f.sf(f_value,df1,df2)\n",
    "    \n",
    "    return f_value , p_value "
   ]
  },
  {
   "cell_type": "code",
   "execution_count": 2,
   "id": "10ae572e-4e0e-48aa-918d-b2bede784276",
   "metadata": {},
   "outputs": [],
   "source": [
    "data1 = [1, 2, 3, 4, 5]\n",
    "data2 = [2, 4, 6, 8, 10]"
   ]
  },
  {
   "cell_type": "code",
   "execution_count": 3,
   "id": "e5652593-5888-4d07-a5a3-eff13e4613c5",
   "metadata": {},
   "outputs": [
    {
     "name": "stdout",
     "output_type": "stream",
     "text": [
      "0.25\n",
      "0.896\n"
     ]
    }
   ],
   "source": [
    "f_value , p_value=variance_ratio_test(data1,data2)\n",
    "\n",
    "print(f_value)\n",
    "print(p_value)"
   ]
  },
  {
   "cell_type": "markdown",
   "id": "685d1e42-8ed0-4e92-9017-cf638a2c32d3",
   "metadata": {},
   "source": [
    "Q2. Given a significance level of 0.05 and the degrees of freedom for the numerator and denominator of an\n",
    "F-distribution, write a Python function that returns the critical F-value for a two-tailed test."
   ]
  },
  {
   "cell_type": "code",
   "execution_count": 4,
   "id": "93855f8e-bbd2-47e3-b459-508742439c5c",
   "metadata": {},
   "outputs": [],
   "source": [
    "from scipy.stats import f \n",
    "\n",
    "def get_critical_f_value(significance_level , dfn , dfd):\n",
    "    \n",
    "    critical_f=f.ppf(1-significance_level/2,dfn,dfd)\n",
    "    return critical_f\n"
   ]
  },
  {
   "cell_type": "code",
   "execution_count": 5,
   "id": "a5614895-d865-4332-8bd6-2a5c98384b31",
   "metadata": {},
   "outputs": [
    {
     "name": "stdout",
     "output_type": "stream",
     "text": [
      "3.8586986662732143\n"
     ]
    }
   ],
   "source": [
    "critical_f=get_critical_f_value(0.05,3,20)\n",
    "print(critical_f)"
   ]
  },
  {
   "cell_type": "markdown",
   "id": "bea14cc1-0eb6-4933-bf13-db6839ac6835",
   "metadata": {},
   "source": [
    "Q3. Write a Python program that generates random samples from two normal distributions with known\n",
    "\n",
    "variances and uses an F-test to determine if the variances are equal. The program should output the F-\n",
    "value, degrees of freedom, and p-value for the test."
   ]
  },
  {
   "cell_type": "code",
   "execution_count": 6,
   "id": "24df4253-27e4-4d6c-9e5d-0dd75d9820c5",
   "metadata": {},
   "outputs": [
    {
     "name": "stdout",
     "output_type": "stream",
     "text": [
      "f value 0.25\n",
      "degress of freedom (num,den:) 99 99\n",
      "p value  1.6688332292894104e-11\n"
     ]
    }
   ],
   "source": [
    "import numpy as np \n",
    "from scipy.stats import f \n",
    "\n",
    "\n",
    "def f_test_equal_variances(sample1,sample2):\n",
    "    var1=np.var(sample1,ddof=1)\n",
    "    var2=np.var(sample2,ddof=1)\n",
    "    \n",
    "    \n",
    "    n1=len(sample1)\n",
    "    n2=len(sample2)\n",
    "    dfn=n1-1\n",
    "    dfd=n2-1\n",
    "    \n",
    "    p_value=f.cdf(f_value,dfn,dfd)\n",
    "    \n",
    "    return f_value , dfn , dfd , p_value \n",
    "\n",
    "\n",
    "\n",
    "np.random.seed(0)\n",
    "\n",
    "\n",
    "sample1=np.random.normal(loc=0,scale=1,size=100)\n",
    "\n",
    "sample2=np.random.normal(loc=0 , scale=1, size=100)\n",
    "\n",
    "f_value , dfn , dfd , p_value = f_test_equal_variances(sample1,sample2)\n",
    "\n",
    "print('f value'  ,f_value)\n",
    "print('degress of freedom (num,den:)',dfn , dfd)\n",
    "\n",
    "print('p value ' , p_value)"
   ]
  },
  {
   "cell_type": "markdown",
   "id": "b37aaa00-66e1-4c11-b5bc-320a6dd6c945",
   "metadata": {},
   "source": [
    "Q4.The variances of two populations are known to be 10 and 15. A sample of 12 observations is taken from\n",
    "each population. Conduct an F-test at the 5% significance level to determine if the variances are\n",
    "significantly different."
   ]
  },
  {
   "cell_type": "code",
   "execution_count": 7,
   "id": "78d4c042-c1e6-47e1-a7a2-5f98a4cc206f",
   "metadata": {},
   "outputs": [
    {
     "name": "stdout",
     "output_type": "stream",
     "text": [
      "fail to reject the null hypothesis\n"
     ]
    }
   ],
   "source": [
    "import scipy.stats as stats\n",
    "variance1=10\n",
    "variance2=15\n",
    "n1=12\n",
    "n2=12\n",
    "\n",
    "\n",
    "f_value=variance1/variance2\n",
    "\n",
    "dfn=n1-1\n",
    "dfd=n2-1\n",
    "\n",
    "p_value=1-stats.f.cdf(f_value,dfn,dfd)\n",
    "\n",
    "alpha=0.05\n",
    "if p_value<alpha:\n",
    "    print(\"reject the null hypothesis\")\n",
    "    \n",
    "else :\n",
    "    print(\"fail to reject the null hypothesis\")"
   ]
  },
  {
   "cell_type": "markdown",
   "id": "3742b644-555e-4b7e-a68b-d7c4308a34e3",
   "metadata": {},
   "source": [
    "Q5. A manufacturer claims that the variance of the diameter of a certain product is 0.005. A sample of 25\n",
    "products is taken, and the sample variance is found to be 0.006. Conduct an F-test at the 1% significance\n",
    "level to determine if the claim is justified."
   ]
  },
  {
   "cell_type": "code",
   "execution_count": 8,
   "id": "4f05a10e-c315-431f-8ccd-616bf71b606f",
   "metadata": {},
   "outputs": [
    {
     "name": "stdout",
     "output_type": "stream",
     "text": [
      "fail to reject the null hypothesis . The claim about the variance is justified\n"
     ]
    }
   ],
   "source": [
    "import scipy.stats as stats\n",
    "\n",
    "sample_variance=0.006\n",
    "claimed_variance=0.005\n",
    "\n",
    "sample_size=25\n",
    "\n",
    "f_value=sample_variance / claimed_variance\n",
    "\n",
    "dfn=sample_size-1\n",
    "\n",
    "dfd=float('inf')\n",
    "\n",
    "p_value=1-stats.f.cdf(f_value,dfn,dfd)\n",
    "\n",
    "\n",
    "alpha=0.01\n",
    "if p_value<alpha :\n",
    "    print(\"reject the null hypothesis . The claim about the variance is not justified\")\n",
    "    \n",
    "else :\n",
    "    print(\"fail to reject the null hypothesis . The claim about the variance is justified\")"
   ]
  },
  {
   "cell_type": "markdown",
   "id": "4bae1fb5-c6d6-468c-8b0f-7fe161c58f64",
   "metadata": {},
   "source": [
    "Q6. Write a Python function that takes in the degrees of freedom for the numerator and denominator of an\n",
    "F-distribution and calculates the mean and variance of the distribution. The function should return the\n",
    "mean and variance as a tuple."
   ]
  },
  {
   "cell_type": "code",
   "execution_count": 9,
   "id": "3bb2144a-9774-4866-8d0b-d86897ad0740",
   "metadata": {},
   "outputs": [
    {
     "name": "stdout",
     "output_type": "stream",
     "text": [
      "1.25\n",
      "1.3541666666666667\n"
     ]
    }
   ],
   "source": [
    "def calculate_fdistribution_parameters(dfn,dfd):\n",
    "    mean=dfd/(dfd-2)\n",
    "    variance=(2*(dfd**2)*(dfn+dfd-2))/(dfn*(dfd-2)**2*(dfd-4))\n",
    "    return mean , variance\n",
    "\n",
    "dfn=5\n",
    "dfd=10\n",
    "mean , variance = calculate_fdistribution_parameters(dfn,dfd)\n",
    "print(mean)\n",
    "print(variance)"
   ]
  },
  {
   "cell_type": "markdown",
   "id": "c24720c0-75c9-4c2c-a631-e37331236796",
   "metadata": {},
   "source": [
    "Q7. A random sample of 10 measurements is taken from a normal population with unknown variance. The\n",
    "sample variance is found to be 25. Another random sample of 15 measurements is taken from another\n",
    "normal population with unknown variance, and the sample variance is found to be 20. Conduct an F-test\n",
    "at the 10% significance level to determine if the variances are significantly different."
   ]
  },
  {
   "cell_type": "code",
   "execution_count": 10,
   "id": "2b0f6075-f034-47f7-80d7-e79acc0dbb64",
   "metadata": {},
   "outputs": [
    {
     "name": "stdout",
     "output_type": "stream",
     "text": [
      "fail to reject the null hypothesis  . There is no significant differences in the variances\n"
     ]
    }
   ],
   "source": [
    "from scipy.stats import f \n",
    "\n",
    "alpha=0.10\n",
    "F=25/20\n",
    "\n",
    "df1=9\n",
    "df2=14\n",
    "\n",
    "p_value=1-f.cdf(F,df1,df2)\n",
    "\n",
    "if p_value<alpha:\n",
    "    print(\"reject the null hypothesis . The variances are significantly different\")\n",
    "    \n",
    "else :\n",
    "    print(\"fail to reject the null hypothesis  . There is no significant differences in the variances\")"
   ]
  },
  {
   "cell_type": "markdown",
   "id": "4dfd4577-e0b8-4a30-b0fe-f26ea5183124",
   "metadata": {},
   "source": [
    "Q8. The following data represent the waiting times in minutes at two different restaurants on a Saturday\n",
    "night: Restaurant A: 24, 25, 28, 23, 22, 20, 27; Restaurant B: 31, 33, 35, 30, 32, 36. Conduct an F-test at the 5%\n",
    "significance level to determine if the variances are significantly different."
   ]
  },
  {
   "cell_type": "code",
   "execution_count": 11,
   "id": "e53e914b-8bb6-4d7f-a87d-42781633c48b",
   "metadata": {},
   "outputs": [
    {
     "name": "stdout",
     "output_type": "stream",
     "text": [
      "fail to reject the null hypothesis. There is no significant difference in the variances\n"
     ]
    }
   ],
   "source": [
    "import numpy as np \n",
    "from scipy.stats import f \n",
    "\n",
    "waiting_times_a=np.array([24, 25, 28, 23, 22, 20, 27])\n",
    "\n",
    "variance_a=np.var(waiting_times_a,ddof=1)\n",
    "\n",
    "waiting_times_b=np.array([31, 33, 35, 30, 32, 36])\n",
    "variance_b=np.var(waiting_times_b , ddof=1)\n",
    "\n",
    "n1=len(waiting_times_a)\n",
    "n2=len(waiting_times_b)\n",
    "\n",
    "df1=n1-1\n",
    "df2=n2-1\n",
    "\n",
    "\n",
    "F=variance_a/variance_b\n",
    "\n",
    "p_value=1-f.cdf(F,df1,df2)\n",
    "\n",
    "alpha=0.05\n",
    "\n",
    "if p_value<alpha:\n",
    "    print(\"reject the null hypothesis . The variances are significantly different\")\n",
    "    \n",
    "else :\n",
    "    print(\"fail to reject the null hypothesis. There is no significant difference in the variances\")"
   ]
  },
  {
   "cell_type": "markdown",
   "id": "c7140a72-8d89-411a-82dc-aa6840915b66",
   "metadata": {},
   "source": [
    "Q9. The following data represent the test scores of two groups of students: Group A: 80, 85, 90, 92, 87, 83;\n",
    "Group B: 75, 78, 82, 79, 81, 84. Conduct an F-test at the 1% significance level to determine if the variances\n",
    "are significantly different."
   ]
  },
  {
   "cell_type": "code",
   "execution_count": 12,
   "id": "533fec22-d368-4878-ab12-fc1513a9b38f",
   "metadata": {},
   "outputs": [
    {
     "name": "stdout",
     "output_type": "stream",
     "text": [
      "the variances are not significantly different\n"
     ]
    }
   ],
   "source": [
    "import numpy as np \n",
    "from scipy.stats import f\n",
    "\n",
    "\n",
    "group_a = np.array([80, 85, 90, 92, 87, 83])\n",
    "\n",
    "\n",
    "group_b = np.array([75, 78, 82, 79, 81, 84])\n",
    "\n",
    "\n",
    "\n",
    "variance_a=np.var(group_a , ddof=1)\n",
    "variance_b=np.var(group_b , ddof=1)\n",
    "\n",
    "f_statistic=variance_a/variance_b\n",
    "\n",
    "df_a=len(group_a)-1\n",
    "df_b=len(group_b)-1\n",
    "\n",
    "\n",
    "p_value=f.sf(f_statistic , df_a , df_b)\n",
    "\n",
    "alpha=0.01\n",
    "\n",
    "if p_value<alpha :\n",
    "    print(\"the variances are significantly different\")\n",
    "    \n",
    "else :\n",
    "    print(\"the variances are not significantly different\")"
   ]
  }
 ],
 "metadata": {
  "kernelspec": {
   "display_name": "Python 3 (ipykernel)",
   "language": "python",
   "name": "python3"
  },
  "language_info": {
   "codemirror_mode": {
    "name": "ipython",
    "version": 3
   },
   "file_extension": ".py",
   "mimetype": "text/x-python",
   "name": "python",
   "nbconvert_exporter": "python",
   "pygments_lexer": "ipython3",
   "version": "3.10.8"
  }
 },
 "nbformat": 4,
 "nbformat_minor": 5
}
